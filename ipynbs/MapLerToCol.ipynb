{
 "metadata": {
  "name": ""
 },
 "nbformat": 3,
 "nbformat_minor": 0,
 "worksheets": [
  {
   "cells": [
    {
     "cell_type": "code",
     "collapsed": false,
     "input": [
      "from Bio.Sequencing.Applications import (\n",
      "        BwaAlignCommandline,\n",
      "        BwaSampeCommandline,\n",
      "        BwaSamseCommandline,\n",
      "        BwaBwaswCommandline,\n",
      "        SamtoolsViewCommandline,\n",
      "        SamtoolsSortCommandline,\n",
      "        )\n",
      "        \n",
      "from glob import glob\n",
      "from cStringIO import StringIO\n",
      "from subprocess import Popen\n",
      "import pipes"
     ],
     "language": "python",
     "metadata": {},
     "outputs": [],
     "prompt_number": 1
    },
    {
     "cell_type": "code",
     "collapsed": true,
     "input": [
      "idx = \"/home/kevin/tmp/TAIR10_gen/TAIR10_gen.fa\"\n",
      "read_file = \"/media/kevin/n1/ws/lercol/sra/Ler_WUR/fq/all.fastq\"\n",
      "out_prefix = \"/media/kevin/n1/ws/lercol/sra/Ler_WUR/fq/1k.sorted\"\n",
      "pipeline = pipes.Template()"
     ],
     "language": "python",
     "metadata": {},
     "outputs": [],
     "prompt_number": 18
    },
    {
     "cell_type": "code",
     "collapsed": false,
     "input": [
      "aln = BwaAlignCommandline(reference=idx, read_file=read_file)\n",
      "print aln\n",
      "pipeline.append(str(aln), \".-\")"
     ],
     "language": "python",
     "metadata": {},
     "outputs": [
      {
       "output_type": "stream",
       "stream": "stdout",
       "text": [
        "bwa aln /home/kevin/tmp/TAIR10_gen/TAIR10_gen.fa /media/kevin/n1/ws/lercol/sra/Ler_WUR/fq/all.fastq\n"
       ]
      }
     ],
     "prompt_number": 19
    },
    {
     "cell_type": "code",
     "collapsed": false,
     "input": [
      "samse = BwaSamseCommandline(reference=idx, read_file=read_file, sai_file=\"$IN\")\n",
      "print samse\n",
      "pipeline.append(str(samse), \"f-\")"
     ],
     "language": "python",
     "metadata": {},
     "outputs": [
      {
       "output_type": "stream",
       "stream": "stdout",
       "text": [
        "bwa samse /home/kevin/tmp/TAIR10_gen/TAIR10_gen.fa $IN /media/kevin/n1/ws/lercol/sra/Ler_WUR/fq/all.fastq\n"
       ]
      }
     ],
     "prompt_number": 20
    },
    {
     "cell_type": "code",
     "collapsed": false,
     "input": [
      "sam_view = SamtoolsViewCommandline(input_file='$IN', u=True, =s)\n",
      "print sam_view\n",
      "pipeline.append(str(sam_view), 'f-')"
     ],
     "language": "python",
     "metadata": {},
     "outputs": [
      {
       "output_type": "stream",
       "stream": "stdout",
       "text": [
        "samtools view -u -S $IN\n"
       ]
      }
     ],
     "prompt_number": 21
    },
    {
     "cell_type": "code",
     "collapsed": false,
     "input": [
      "sam_sort = SamtoolsSortCommandline(input_bam='$IN', out_prefix=\"tmp\", o=True)\n",
      "print sam\n",
      "pipeline.append(str(sam_sort), 'f-')"
     ],
     "language": "python",
     "metadata": {},
     "outputs": [
      {
       "output_type": "stream",
       "stream": "stdout",
       "text": [
        "samtools sort -o $IN tmp\n"
       ]
      }
     ],
     "prompt_number": 22
    },
    {
     "cell_type": "code",
     "collapsed": false,
     "input": [
      "ofh = pipeline.open(\"output.bam\", \"w\")\n",
      "ofh.write('')\n",
      "ofh.close()"
     ],
     "language": "python",
     "metadata": {},
     "outputs": [
      {
       "ename": "KeyboardInterrupt",
       "evalue": "",
       "output_type": "pyerr",
       "traceback": [
        "\u001b[1;31m---------------------------------------------------------------------------\u001b[0m\n\u001b[1;31mKeyboardInterrupt\u001b[0m                         Traceback (most recent call last)",
        "\u001b[1;32m<ipython-input-23-6d99546772a7>\u001b[0m in \u001b[0;36m<module>\u001b[1;34m()\u001b[0m\n\u001b[0;32m      1\u001b[0m \u001b[0mofh\u001b[0m \u001b[1;33m=\u001b[0m \u001b[0mpipeline\u001b[0m\u001b[1;33m.\u001b[0m\u001b[0mopen\u001b[0m\u001b[1;33m(\u001b[0m\u001b[1;34m\"output.bam\"\u001b[0m\u001b[1;33m,\u001b[0m \u001b[1;34m\"w\"\u001b[0m\u001b[1;33m)\u001b[0m\u001b[1;33m\u001b[0m\u001b[0m\n\u001b[0;32m      2\u001b[0m \u001b[0mofh\u001b[0m\u001b[1;33m.\u001b[0m\u001b[0mwrite\u001b[0m\u001b[1;33m(\u001b[0m\u001b[1;34m''\u001b[0m\u001b[1;33m)\u001b[0m\u001b[1;33m\u001b[0m\u001b[0m\n\u001b[1;32m----> 3\u001b[1;33m \u001b[0mofh\u001b[0m\u001b[1;33m.\u001b[0m\u001b[0mclose\u001b[0m\u001b[1;33m(\u001b[0m\u001b[1;33m)\u001b[0m\u001b[1;33m\u001b[0m\u001b[0m\n\u001b[0m",
        "\u001b[1;31mKeyboardInterrupt\u001b[0m: "
       ]
      }
     ],
     "prompt_number": 23
    },
    {
     "cell_type": "code",
     "collapsed": false,
     "input": [
      "pipeline.steps"
     ],
     "language": "python",
     "metadata": {},
     "outputs": [
      {
       "metadata": {},
       "output_type": "pyout",
       "prompt_number": 10,
       "text": [
        "[('bwa aln /home/kevin/tmp/TAIR10_gen/TAIR10_gen.fa /media/kevin/n1/ws/lercol/sra/Ler_WUR/fq/1k.fastq',\n",
        "  '--'),\n",
        " ('bwa samse /home/kevin/tmp/TAIR10_gen/TAIR10_gen.fa $IN /media/kevin/n1/ws/lercol/sra/Ler_WUR/fq/1k.fastq',\n",
        "  'f-'),\n",
        " ('samtools view -u -S $IN', 'f-'),\n",
        " ('samtools sort -o $IN tmp', 'f-'),\n",
        " ('bwa aln /home/kevin/tmp/TAIR10_gen/TAIR10_gen.fa $IN', 'f-'),\n",
        " ('bwa samse /home/kevin/tmp/TAIR10_gen/TAIR10_gen.fa $IN /media/kevin/n1/ws/lercol/sra/Ler_WUR/fq/1k.fastq',\n",
        "  'f-')]"
       ]
      }
     ],
     "prompt_number": 10
    }
   ],
   "metadata": {}
  }
 ]
}